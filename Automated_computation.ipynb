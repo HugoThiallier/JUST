{
 "cells": [
  {
   "cell_type": "markdown",
   "metadata": {},
   "source": [
    "# Fees analysis computation"
   ]
  },
  {
   "cell_type": "markdown",
   "metadata": {},
   "source": [
    "#### This following function computes and creates analysis files automatically, from the csv download on Stripe."
   ]
  },
  {
   "cell_type": "code",
   "execution_count": 1,
   "metadata": {},
   "outputs": [],
   "source": [
    "# Import libraries\n",
    "import pandas as pd\n",
    "import matplotlib.pyplot as plt\n",
    "import numpy as np\n",
    "from datetime import date\n",
    "import sklearn\n",
    "import seaborn as sns\n",
    "from sklearn.model_selection import train_test_split\n",
    "from sklearn.preprocessing import StandardScaler\n",
    "from sklearn.tree import DecisionTreeClassifier\n",
    "from sklearn.ensemble import RandomForestClassifier, GradientBoostingClassifier\n",
    "from sklearn.metrics import accuracy_score, precision_score, recall_score, f1_score\n",
    "from pathlib import Path  "
   ]
  },
  {
   "cell_type": "code",
   "execution_count": 3,
   "metadata": {},
   "outputs": [],
   "source": [
    "def stripe(file_global, radar) :\n",
    "    df = pd.read_csv(file_global)\n",
    "    df_bis = pd.read_csv(radar)\n",
    "\n",
    "    # Global file analysis\n",
    "\n",
    "    df.card_brand = df['card_brand'].fillna(value='unknown')\n",
    "    df.card_funding = df['card_funding'].fillna(value='unknown')\n",
    "    df.plan_name = df['plan_name'].fillna(value='unknown')\n",
    "\n",
    "    to_dl = df[['card_brand','card_funding','fee_category','fee_name','event_type','plan_name','variable_rate','fixed_per_item_amount','variable_volume_amount','total_amount','tax_amount','balance_transaction_id']].groupby(['event_type','card_brand','card_funding','fee_category','fee_name','plan_name']\n",
    "            ).agg(\n",
    "        TOTAL_fixed_fees=('fixed_per_item_amount', 'sum'),\n",
    "        TOTAL_volume_variable_fees=('variable_volume_amount', 'sum'),\n",
    "        TOTAL_fees_amount=('total_amount', 'sum'),\n",
    "        MEAN_fixed_fees=('fixed_per_item_amount', 'mean'),\n",
    "        MEAN_variable_rate=('variable_rate', 'mean'),\n",
    "        by_transaction_occuring=('balance_transaction_id','nunique'),\n",
    "        total_occuring = ('balance_transaction_id','count')\n",
    "    )\n",
    "\n",
    "    to_dl.to_csv('stripe_p&l.csv')\n",
    "\n",
    "    # Radar, 3DS and payout file analysis\n",
    "\n",
    "    df_bis.card_brand = df_bis['card_brand'].fillna(value='unknown')\n",
    "    df_bis.card_funding = df_bis['card_brand'].fillna(value='unknown')\n",
    "    df_bis['month_year'] = pd.to_datetime(df_bis['activity_at']).dt.strftime('%m-%Y')\n",
    "\n",
    "    A = df_bis[df_bis['balance_transaction_description'].str.contains('Payout', case=False)]\n",
    "    B = df_bis[df_bis['balance_transaction_description'].str.contains('3D', case=False)]\n",
    "    C = df_bis[df_bis['balance_transaction_description'].str.contains('Radar', case=False)]\n",
    "\n",
    "    tot = pd.concat([A,B,C], axis=0)\n",
    "\n",
    "    to_dl = tot[['balance_transaction_description','amount']].groupby('balance_transaction_description')[['amount']].sum()\n",
    "\n",
    "    to_dl.to_csv('stripe_p&l_RADAR.csv')\n"
   ]
  },
  {
   "cell_type": "code",
   "execution_count": 4,
   "metadata": {},
   "outputs": [
    {
     "name": "stderr",
     "output_type": "stream",
     "text": [
      "/var/folders/kx/053l91k97ggc1ywh6t0pvckh0000gn/T/ipykernel_5824/2078803205.py:2: DtypeWarning: Columns (6,16,19,24) have mixed types. Specify dtype option on import or set low_memory=False.\n",
      "  df = pd.read_csv(file_global)\n"
     ]
    }
   ],
   "source": [
    "stripe('Oct_fees_sumary.csv','Oct_stripe_RADAR.csv')"
   ]
  }
 ],
 "metadata": {
  "kernelspec": {
   "display_name": "good",
   "language": "python",
   "name": "python3"
  },
  "language_info": {
   "codemirror_mode": {
    "name": "ipython",
    "version": 3
   },
   "file_extension": ".py",
   "mimetype": "text/x-python",
   "name": "python",
   "nbconvert_exporter": "python",
   "pygments_lexer": "ipython3",
   "version": "3.10.10"
  },
  "orig_nbformat": 4
 },
 "nbformat": 4,
 "nbformat_minor": 2
}
